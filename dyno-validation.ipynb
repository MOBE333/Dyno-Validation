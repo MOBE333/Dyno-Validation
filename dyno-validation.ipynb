{
 "cells": [
  {
   "cell_type": "markdown",
   "id": "2ae9fbb6",
   "metadata": {
    "papermill": {
     "duration": 0.024642,
     "end_time": "2022-01-10T20:28:09.612187",
     "exception": false,
     "start_time": "2022-01-10T20:28:09.587545",
     "status": "completed"
    },
    "tags": []
   },
   "source": [
    "# Analysis for Validating Dyno as an End of Line Test Method"
   ]
  },
  {
   "cell_type": "code",
   "execution_count": 1,
   "id": "42dba6ec",
   "metadata": {
    "_cell_guid": "b1076dfc-b9ad-4769-8c92-a6c4dae69d19",
    "_uuid": "8f2839f25d086af736a60e9eeb907d3b93b6e0e5",
    "execution": {
     "iopub.execute_input": "2022-01-10T20:28:09.664870Z",
     "iopub.status.busy": "2022-01-10T20:28:09.662947Z",
     "iopub.status.idle": "2022-01-10T20:28:10.874270Z",
     "shell.execute_reply": "2022-01-10T20:28:10.873528Z",
     "shell.execute_reply.started": "2022-01-10T20:07:46.059417Z"
    },
    "papermill": {
     "duration": 1.241041,
     "end_time": "2022-01-10T20:28:10.874436",
     "exception": false,
     "start_time": "2022-01-10T20:28:09.633395",
     "status": "completed"
    },
    "tags": []
   },
   "outputs": [],
   "source": [
    "import pandas as pd\n",
    "import sklearn\n",
    "from math import sqrt\n",
    "import statistics\n",
    "from sklearn.model_selection import train_test_split\n",
    "from sklearn.linear_model import LinearRegression\n",
    "from sklearn.metrics import mean_squared_error\n",
    "from math import sqrt"
   ]
  },
  {
   "cell_type": "code",
   "execution_count": 2,
   "id": "798de549",
   "metadata": {
    "execution": {
     "iopub.execute_input": "2022-01-10T20:28:10.915870Z",
     "iopub.status.busy": "2022-01-10T20:28:10.915169Z",
     "iopub.status.idle": "2022-01-10T20:28:10.932369Z",
     "shell.execute_reply": "2022-01-10T20:28:10.932951Z",
     "shell.execute_reply.started": "2022-01-10T20:07:47.397628Z"
    },
    "papermill": {
     "duration": 0.041218,
     "end_time": "2022-01-10T20:28:10.933134",
     "exception": false,
     "start_time": "2022-01-10T20:28:10.891916",
     "status": "completed"
    },
    "tags": []
   },
   "outputs": [],
   "source": [
    "df = pd.read_csv('../input/bs-data-1/BS Data.csv')"
   ]
  },
  {
   "cell_type": "code",
   "execution_count": 3,
   "id": "5f544955",
   "metadata": {
    "execution": {
     "iopub.execute_input": "2022-01-10T20:28:10.972300Z",
     "iopub.status.busy": "2022-01-10T20:28:10.971238Z",
     "iopub.status.idle": "2022-01-10T20:28:11.003789Z",
     "shell.execute_reply": "2022-01-10T20:28:11.004317Z",
     "shell.execute_reply.started": "2022-01-10T20:07:47.425727Z"
    },
    "papermill": {
     "duration": 0.053899,
     "end_time": "2022-01-10T20:28:11.004505",
     "exception": false,
     "start_time": "2022-01-10T20:28:10.950606",
     "status": "completed"
    },
    "tags": []
   },
   "outputs": [
    {
     "data": {
      "text/html": [
       "<div>\n",
       "<style scoped>\n",
       "    .dataframe tbody tr th:only-of-type {\n",
       "        vertical-align: middle;\n",
       "    }\n",
       "\n",
       "    .dataframe tbody tr th {\n",
       "        vertical-align: top;\n",
       "    }\n",
       "\n",
       "    .dataframe thead th {\n",
       "        text-align: right;\n",
       "    }\n",
       "</style>\n",
       "<table border=\"1\" class=\"dataframe\">\n",
       "  <thead>\n",
       "    <tr style=\"text-align: right;\">\n",
       "      <th></th>\n",
       "      <th>Record</th>\n",
       "      <th>Serial</th>\n",
       "      <th>8410</th>\n",
       "      <th>8510</th>\n",
       "      <th>8310</th>\n",
       "      <th>8610</th>\n",
       "      <th>8900</th>\n",
       "      <th>8720</th>\n",
       "      <th>3010</th>\n",
       "      <th>3020</th>\n",
       "      <th>3030</th>\n",
       "      <th>Model</th>\n",
       "      <th>Weight</th>\n",
       "      <th>Loaded</th>\n",
       "      <th>Tire</th>\n",
       "      <th>Fork Length</th>\n",
       "      <th>Width</th>\n",
       "      <th>Intellispeed</th>\n",
       "      <th>Test Track Speed</th>\n",
       "      <th>Dyno Speed</th>\n",
       "    </tr>\n",
       "  </thead>\n",
       "  <tbody>\n",
       "    <tr>\n",
       "      <th>0</th>\n",
       "      <td>1</td>\n",
       "      <td>NaN</td>\n",
       "      <td>1</td>\n",
       "      <td>0</td>\n",
       "      <td>0</td>\n",
       "      <td>0</td>\n",
       "      <td>0</td>\n",
       "      <td>0</td>\n",
       "      <td>0</td>\n",
       "      <td>0</td>\n",
       "      <td>0</td>\n",
       "      <td>8410</td>\n",
       "      <td>NaN</td>\n",
       "      <td>Y</td>\n",
       "      <td>NaN</td>\n",
       "      <td>48</td>\n",
       "      <td>NaN</td>\n",
       "      <td>0</td>\n",
       "      <td>6.2</td>\n",
       "      <td>6.8</td>\n",
       "    </tr>\n",
       "    <tr>\n",
       "      <th>1</th>\n",
       "      <td>2</td>\n",
       "      <td>NaN</td>\n",
       "      <td>0</td>\n",
       "      <td>0</td>\n",
       "      <td>0</td>\n",
       "      <td>1</td>\n",
       "      <td>0</td>\n",
       "      <td>0</td>\n",
       "      <td>0</td>\n",
       "      <td>0</td>\n",
       "      <td>0</td>\n",
       "      <td>8410</td>\n",
       "      <td>NaN</td>\n",
       "      <td>N</td>\n",
       "      <td>NaN</td>\n",
       "      <td>96</td>\n",
       "      <td>NaN</td>\n",
       "      <td>0</td>\n",
       "      <td>8.1</td>\n",
       "      <td>8.9</td>\n",
       "    </tr>\n",
       "    <tr>\n",
       "      <th>2</th>\n",
       "      <td>3</td>\n",
       "      <td>NaN</td>\n",
       "      <td>1</td>\n",
       "      <td>0</td>\n",
       "      <td>0</td>\n",
       "      <td>0</td>\n",
       "      <td>0</td>\n",
       "      <td>0</td>\n",
       "      <td>0</td>\n",
       "      <td>0</td>\n",
       "      <td>0</td>\n",
       "      <td>8410</td>\n",
       "      <td>NaN</td>\n",
       "      <td>Y</td>\n",
       "      <td>NaN</td>\n",
       "      <td>48</td>\n",
       "      <td>NaN</td>\n",
       "      <td>1</td>\n",
       "      <td>6.1</td>\n",
       "      <td>7.0</td>\n",
       "    </tr>\n",
       "    <tr>\n",
       "      <th>3</th>\n",
       "      <td>4</td>\n",
       "      <td>NaN</td>\n",
       "      <td>1</td>\n",
       "      <td>0</td>\n",
       "      <td>0</td>\n",
       "      <td>0</td>\n",
       "      <td>0</td>\n",
       "      <td>0</td>\n",
       "      <td>0</td>\n",
       "      <td>0</td>\n",
       "      <td>0</td>\n",
       "      <td>8720</td>\n",
       "      <td>NaN</td>\n",
       "      <td>N</td>\n",
       "      <td>NaN</td>\n",
       "      <td>144</td>\n",
       "      <td>NaN</td>\n",
       "      <td>0</td>\n",
       "      <td>8.0</td>\n",
       "      <td>8.9</td>\n",
       "    </tr>\n",
       "    <tr>\n",
       "      <th>4</th>\n",
       "      <td>5</td>\n",
       "      <td>NaN</td>\n",
       "      <td>1</td>\n",
       "      <td>0</td>\n",
       "      <td>0</td>\n",
       "      <td>0</td>\n",
       "      <td>0</td>\n",
       "      <td>0</td>\n",
       "      <td>0</td>\n",
       "      <td>0</td>\n",
       "      <td>0</td>\n",
       "      <td>8410</td>\n",
       "      <td>NaN</td>\n",
       "      <td>N</td>\n",
       "      <td>NaN</td>\n",
       "      <td>48</td>\n",
       "      <td>NaN</td>\n",
       "      <td>0</td>\n",
       "      <td>7.1</td>\n",
       "      <td>8.0</td>\n",
       "    </tr>\n",
       "    <tr>\n",
       "      <th>5</th>\n",
       "      <td>6</td>\n",
       "      <td>NaN</td>\n",
       "      <td>1</td>\n",
       "      <td>0</td>\n",
       "      <td>0</td>\n",
       "      <td>0</td>\n",
       "      <td>0</td>\n",
       "      <td>0</td>\n",
       "      <td>0</td>\n",
       "      <td>0</td>\n",
       "      <td>0</td>\n",
       "      <td>8410</td>\n",
       "      <td>NaN</td>\n",
       "      <td>N</td>\n",
       "      <td>NaN</td>\n",
       "      <td>48</td>\n",
       "      <td>NaN</td>\n",
       "      <td>0</td>\n",
       "      <td>8.2</td>\n",
       "      <td>8.9</td>\n",
       "    </tr>\n",
       "    <tr>\n",
       "      <th>6</th>\n",
       "      <td>7</td>\n",
       "      <td>NaN</td>\n",
       "      <td>1</td>\n",
       "      <td>0</td>\n",
       "      <td>0</td>\n",
       "      <td>0</td>\n",
       "      <td>0</td>\n",
       "      <td>0</td>\n",
       "      <td>0</td>\n",
       "      <td>0</td>\n",
       "      <td>0</td>\n",
       "      <td>8410</td>\n",
       "      <td>NaN</td>\n",
       "      <td>Y</td>\n",
       "      <td>NaN</td>\n",
       "      <td>36</td>\n",
       "      <td>NaN</td>\n",
       "      <td>0</td>\n",
       "      <td>6.2</td>\n",
       "      <td>7.0</td>\n",
       "    </tr>\n",
       "    <tr>\n",
       "      <th>7</th>\n",
       "      <td>8</td>\n",
       "      <td>NaN</td>\n",
       "      <td>1</td>\n",
       "      <td>0</td>\n",
       "      <td>0</td>\n",
       "      <td>0</td>\n",
       "      <td>0</td>\n",
       "      <td>0</td>\n",
       "      <td>0</td>\n",
       "      <td>0</td>\n",
       "      <td>0</td>\n",
       "      <td>8720</td>\n",
       "      <td>NaN</td>\n",
       "      <td>N</td>\n",
       "      <td>NaN</td>\n",
       "      <td>48</td>\n",
       "      <td>NaN</td>\n",
       "      <td>0</td>\n",
       "      <td>8.0</td>\n",
       "      <td>8.9</td>\n",
       "    </tr>\n",
       "    <tr>\n",
       "      <th>8</th>\n",
       "      <td>9</td>\n",
       "      <td>NaN</td>\n",
       "      <td>0</td>\n",
       "      <td>0</td>\n",
       "      <td>0</td>\n",
       "      <td>0</td>\n",
       "      <td>0</td>\n",
       "      <td>1</td>\n",
       "      <td>0</td>\n",
       "      <td>0</td>\n",
       "      <td>0</td>\n",
       "      <td>8410</td>\n",
       "      <td>NaN</td>\n",
       "      <td>Y</td>\n",
       "      <td>NaN</td>\n",
       "      <td>48</td>\n",
       "      <td>NaN</td>\n",
       "      <td>0</td>\n",
       "      <td>8.0</td>\n",
       "      <td>8.8</td>\n",
       "    </tr>\n",
       "    <tr>\n",
       "      <th>9</th>\n",
       "      <td>10</td>\n",
       "      <td>NaN</td>\n",
       "      <td>0</td>\n",
       "      <td>0</td>\n",
       "      <td>1</td>\n",
       "      <td>0</td>\n",
       "      <td>0</td>\n",
       "      <td>0</td>\n",
       "      <td>0</td>\n",
       "      <td>0</td>\n",
       "      <td>0</td>\n",
       "      <td>8410</td>\n",
       "      <td>NaN</td>\n",
       "      <td>N</td>\n",
       "      <td>NaN</td>\n",
       "      <td>48</td>\n",
       "      <td>NaN</td>\n",
       "      <td>0</td>\n",
       "      <td>8.0</td>\n",
       "      <td>8.7</td>\n",
       "    </tr>\n",
       "    <tr>\n",
       "      <th>10</th>\n",
       "      <td>11</td>\n",
       "      <td>NaN</td>\n",
       "      <td>0</td>\n",
       "      <td>1</td>\n",
       "      <td>0</td>\n",
       "      <td>0</td>\n",
       "      <td>0</td>\n",
       "      <td>0</td>\n",
       "      <td>0</td>\n",
       "      <td>0</td>\n",
       "      <td>0</td>\n",
       "      <td>8410</td>\n",
       "      <td>NaN</td>\n",
       "      <td>N</td>\n",
       "      <td>NaN</td>\n",
       "      <td>48</td>\n",
       "      <td>NaN</td>\n",
       "      <td>0</td>\n",
       "      <td>7.9</td>\n",
       "      <td>8.5</td>\n",
       "    </tr>\n",
       "    <tr>\n",
       "      <th>11</th>\n",
       "      <td>12</td>\n",
       "      <td>NaN</td>\n",
       "      <td>1</td>\n",
       "      <td>0</td>\n",
       "      <td>0</td>\n",
       "      <td>0</td>\n",
       "      <td>0</td>\n",
       "      <td>0</td>\n",
       "      <td>0</td>\n",
       "      <td>0</td>\n",
       "      <td>0</td>\n",
       "      <td>8720</td>\n",
       "      <td>NaN</td>\n",
       "      <td>N</td>\n",
       "      <td>NaN</td>\n",
       "      <td>48</td>\n",
       "      <td>NaN</td>\n",
       "      <td>0</td>\n",
       "      <td>7.8</td>\n",
       "      <td>8.6</td>\n",
       "    </tr>\n",
       "    <tr>\n",
       "      <th>12</th>\n",
       "      <td>13</td>\n",
       "      <td>NaN</td>\n",
       "      <td>1</td>\n",
       "      <td>0</td>\n",
       "      <td>0</td>\n",
       "      <td>0</td>\n",
       "      <td>0</td>\n",
       "      <td>0</td>\n",
       "      <td>0</td>\n",
       "      <td>0</td>\n",
       "      <td>0</td>\n",
       "      <td>8410</td>\n",
       "      <td>NaN</td>\n",
       "      <td>Y</td>\n",
       "      <td>NaN</td>\n",
       "      <td>48</td>\n",
       "      <td>NaN</td>\n",
       "      <td>0</td>\n",
       "      <td>7.8</td>\n",
       "      <td>8.5</td>\n",
       "    </tr>\n",
       "  </tbody>\n",
       "</table>\n",
       "</div>"
      ],
      "text/plain": [
       "    Record  Serial  8410  8510  8310  8610  8900  8720  3010  3020  3030  \\\n",
       "0        1     NaN     1     0     0     0     0     0     0     0     0   \n",
       "1        2     NaN     0     0     0     1     0     0     0     0     0   \n",
       "2        3     NaN     1     0     0     0     0     0     0     0     0   \n",
       "3        4     NaN     1     0     0     0     0     0     0     0     0   \n",
       "4        5     NaN     1     0     0     0     0     0     0     0     0   \n",
       "5        6     NaN     1     0     0     0     0     0     0     0     0   \n",
       "6        7     NaN     1     0     0     0     0     0     0     0     0   \n",
       "7        8     NaN     1     0     0     0     0     0     0     0     0   \n",
       "8        9     NaN     0     0     0     0     0     1     0     0     0   \n",
       "9       10     NaN     0     0     1     0     0     0     0     0     0   \n",
       "10      11     NaN     0     1     0     0     0     0     0     0     0   \n",
       "11      12     NaN     1     0     0     0     0     0     0     0     0   \n",
       "12      13     NaN     1     0     0     0     0     0     0     0     0   \n",
       "\n",
       "    Model  Weight Loaded  Tire  Fork Length  Width  Intellispeed  \\\n",
       "0    8410     NaN      Y   NaN           48    NaN             0   \n",
       "1    8410     NaN      N   NaN           96    NaN             0   \n",
       "2    8410     NaN      Y   NaN           48    NaN             1   \n",
       "3    8720     NaN      N   NaN          144    NaN             0   \n",
       "4    8410     NaN      N   NaN           48    NaN             0   \n",
       "5    8410     NaN      N   NaN           48    NaN             0   \n",
       "6    8410     NaN      Y   NaN           36    NaN             0   \n",
       "7    8720     NaN      N   NaN           48    NaN             0   \n",
       "8    8410     NaN      Y   NaN           48    NaN             0   \n",
       "9    8410     NaN      N   NaN           48    NaN             0   \n",
       "10   8410     NaN      N   NaN           48    NaN             0   \n",
       "11   8720     NaN      N   NaN           48    NaN             0   \n",
       "12   8410     NaN      Y   NaN           48    NaN             0   \n",
       "\n",
       "    Test Track Speed  Dyno Speed  \n",
       "0                6.2         6.8  \n",
       "1                8.1         8.9  \n",
       "2                6.1         7.0  \n",
       "3                8.0         8.9  \n",
       "4                7.1         8.0  \n",
       "5                8.2         8.9  \n",
       "6                6.2         7.0  \n",
       "7                8.0         8.9  \n",
       "8                8.0         8.8  \n",
       "9                8.0         8.7  \n",
       "10               7.9         8.5  \n",
       "11               7.8         8.6  \n",
       "12               7.8         8.5  "
      ]
     },
     "execution_count": 3,
     "metadata": {},
     "output_type": "execute_result"
    }
   ],
   "source": [
    "df"
   ]
  },
  {
   "cell_type": "markdown",
   "id": "b78f2809",
   "metadata": {
    "papermill": {
     "duration": 0.01815,
     "end_time": "2022-01-10T20:28:11.043788",
     "exception": false,
     "start_time": "2022-01-10T20:28:11.025638",
     "status": "completed"
    },
    "tags": []
   },
   "source": [
    "I am trying to determine how well the speed reading off of the dyno predicts the speed reading on the test track so we use load dyno speed as our feature and test track speed as the target we are trying to predict."
   ]
  },
  {
   "cell_type": "markdown",
   "id": "2b1e6f13",
   "metadata": {
    "papermill": {
     "duration": 0.017829,
     "end_time": "2022-01-10T20:28:11.080795",
     "exception": false,
     "start_time": "2022-01-10T20:28:11.062966",
     "status": "completed"
    },
    "tags": []
   },
   "source": []
  },
  {
   "cell_type": "code",
   "execution_count": 4,
   "id": "be72a680",
   "metadata": {
    "execution": {
     "iopub.execute_input": "2022-01-10T20:28:11.122598Z",
     "iopub.status.busy": "2022-01-10T20:28:11.121678Z",
     "iopub.status.idle": "2022-01-10T20:28:11.124368Z",
     "shell.execute_reply": "2022-01-10T20:28:11.123726Z",
     "shell.execute_reply.started": "2022-01-10T20:07:47.467717Z"
    },
    "papermill": {
     "duration": 0.025676,
     "end_time": "2022-01-10T20:28:11.124537",
     "exception": false,
     "start_time": "2022-01-10T20:28:11.098861",
     "status": "completed"
    },
    "tags": []
   },
   "outputs": [],
   "source": [
    "features = ['Dyno Speed']\n",
    "target = ['Test Track Speed']"
   ]
  },
  {
   "cell_type": "code",
   "execution_count": 5,
   "id": "599506c4",
   "metadata": {
    "execution": {
     "iopub.execute_input": "2022-01-10T20:28:11.164862Z",
     "iopub.status.busy": "2022-01-10T20:28:11.163851Z",
     "iopub.status.idle": "2022-01-10T20:28:11.175442Z",
     "shell.execute_reply": "2022-01-10T20:28:11.176017Z",
     "shell.execute_reply.started": "2022-01-10T20:07:47.476248Z"
    },
    "papermill": {
     "duration": 0.033429,
     "end_time": "2022-01-10T20:28:11.176208",
     "exception": false,
     "start_time": "2022-01-10T20:28:11.142779",
     "status": "completed"
    },
    "tags": []
   },
   "outputs": [],
   "source": [
    "X = df[features]\n",
    "y = df[target]"
   ]
  },
  {
   "cell_type": "code",
   "execution_count": 6,
   "id": "f5475f0c",
   "metadata": {
    "execution": {
     "iopub.execute_input": "2022-01-10T20:28:11.217222Z",
     "iopub.status.busy": "2022-01-10T20:28:11.216176Z",
     "iopub.status.idle": "2022-01-10T20:28:11.227703Z",
     "shell.execute_reply": "2022-01-10T20:28:11.226747Z",
     "shell.execute_reply.started": "2022-01-10T20:07:47.497973Z"
    },
    "papermill": {
     "duration": 0.03319,
     "end_time": "2022-01-10T20:28:11.227910",
     "exception": false,
     "start_time": "2022-01-10T20:28:11.194720",
     "status": "completed"
    },
    "tags": []
   },
   "outputs": [
    {
     "name": "stdout",
     "output_type": "stream",
     "text": [
      "    Dyno Speed\n",
      "0          6.8\n",
      "1          8.9\n",
      "2          7.0\n",
      "3          8.9\n",
      "4          8.0\n",
      "5          8.9\n",
      "6          7.0\n",
      "7          8.9\n",
      "8          8.8\n",
      "9          8.7\n",
      "10         8.5\n",
      "11         8.6\n",
      "12         8.5\n",
      "    Test Track Speed\n",
      "0                6.2\n",
      "1                8.1\n",
      "2                6.1\n",
      "3                8.0\n",
      "4                7.1\n",
      "5                8.2\n",
      "6                6.2\n",
      "7                8.0\n",
      "8                8.0\n",
      "9                8.0\n",
      "10               7.9\n",
      "11               7.8\n",
      "12               7.8\n"
     ]
    }
   ],
   "source": [
    "print(X)\n",
    "print(y)"
   ]
  },
  {
   "cell_type": "markdown",
   "id": "19faf45f",
   "metadata": {
    "papermill": {
     "duration": 0.018463,
     "end_time": "2022-01-10T20:28:11.265934",
     "exception": false,
     "start_time": "2022-01-10T20:28:11.247471",
     "status": "completed"
    },
    "tags": []
   },
   "source": [
    "Splitting our data into training data and testing data."
   ]
  },
  {
   "cell_type": "code",
   "execution_count": 7,
   "id": "1bab776e",
   "metadata": {
    "execution": {
     "iopub.execute_input": "2022-01-10T20:28:11.311217Z",
     "iopub.status.busy": "2022-01-10T20:28:11.310070Z",
     "iopub.status.idle": "2022-01-10T20:28:11.318479Z",
     "shell.execute_reply": "2022-01-10T20:28:11.319400Z",
     "shell.execute_reply.started": "2022-01-10T20:07:47.514946Z"
    },
    "papermill": {
     "duration": 0.034103,
     "end_time": "2022-01-10T20:28:11.319635",
     "exception": false,
     "start_time": "2022-01-10T20:28:11.285532",
     "status": "completed"
    },
    "tags": []
   },
   "outputs": [],
   "source": [
    "X_train, X_test, y_train, y_test = train_test_split(X, y, test_size=0.33, random_state=324)"
   ]
  },
  {
   "cell_type": "markdown",
   "id": "3f52a891",
   "metadata": {
    "papermill": {
     "duration": 0.019328,
     "end_time": "2022-01-10T20:28:11.357629",
     "exception": false,
     "start_time": "2022-01-10T20:28:11.338301",
     "status": "completed"
    },
    "tags": []
   },
   "source": [
    "I adapted this from another notebook so I don't fully understand how these next two cells work other than its fitting the training data and creating the model."
   ]
  },
  {
   "cell_type": "code",
   "execution_count": 8,
   "id": "ef18e944",
   "metadata": {
    "execution": {
     "iopub.execute_input": "2022-01-10T20:28:11.412482Z",
     "iopub.status.busy": "2022-01-10T20:28:11.402167Z",
     "iopub.status.idle": "2022-01-10T20:28:11.424741Z",
     "shell.execute_reply": "2022-01-10T20:28:11.425310Z",
     "shell.execute_reply.started": "2022-01-10T20:07:47.526262Z"
    },
    "papermill": {
     "duration": 0.047889,
     "end_time": "2022-01-10T20:28:11.425487",
     "exception": false,
     "start_time": "2022-01-10T20:28:11.377598",
     "status": "completed"
    },
    "tags": []
   },
   "outputs": [
    {
     "data": {
      "text/plain": [
       "LinearRegression()"
      ]
     },
     "execution_count": 8,
     "metadata": {},
     "output_type": "execute_result"
    }
   ],
   "source": [
    "regressor = LinearRegression()\n",
    "regressor.fit(X_train, y_train)"
   ]
  },
  {
   "cell_type": "code",
   "execution_count": 9,
   "id": "2dee6f28",
   "metadata": {
    "execution": {
     "iopub.execute_input": "2022-01-10T20:28:11.469122Z",
     "iopub.status.busy": "2022-01-10T20:28:11.468399Z",
     "iopub.status.idle": "2022-01-10T20:28:11.476421Z",
     "shell.execute_reply": "2022-01-10T20:28:11.476986Z",
     "shell.execute_reply.started": "2022-01-10T20:07:47.558113Z"
    },
    "papermill": {
     "duration": 0.031852,
     "end_time": "2022-01-10T20:28:11.477171",
     "exception": false,
     "start_time": "2022-01-10T20:28:11.445319",
     "status": "completed"
    },
    "tags": []
   },
   "outputs": [
    {
     "data": {
      "text/plain": [
       "array([[7.8337234 ],\n",
       "       [6.29159574],\n",
       "       [8.12287234],\n",
       "       [8.12287234],\n",
       "       [8.12287234]])"
      ]
     },
     "execution_count": 9,
     "metadata": {},
     "output_type": "execute_result"
    }
   ],
   "source": [
    "y_prediction = regressor.predict(X_test)\n",
    "y_prediction"
   ]
  },
  {
   "cell_type": "code",
   "execution_count": 10,
   "id": "c66a1b4f",
   "metadata": {
    "execution": {
     "iopub.execute_input": "2022-01-10T20:28:11.520167Z",
     "iopub.status.busy": "2022-01-10T20:28:11.519429Z",
     "iopub.status.idle": "2022-01-10T20:28:11.538251Z",
     "shell.execute_reply": "2022-01-10T20:28:11.538846Z",
     "shell.execute_reply.started": "2022-01-10T20:07:47.572666Z"
    },
    "papermill": {
     "duration": 0.042222,
     "end_time": "2022-01-10T20:28:11.539032",
     "exception": false,
     "start_time": "2022-01-10T20:28:11.496810",
     "status": "completed"
    },
    "tags": []
   },
   "outputs": [
    {
     "data": {
      "text/html": [
       "<div>\n",
       "<style scoped>\n",
       "    .dataframe tbody tr th:only-of-type {\n",
       "        vertical-align: middle;\n",
       "    }\n",
       "\n",
       "    .dataframe tbody tr th {\n",
       "        vertical-align: top;\n",
       "    }\n",
       "\n",
       "    .dataframe thead th {\n",
       "        text-align: right;\n",
       "    }\n",
       "</style>\n",
       "<table border=\"1\" class=\"dataframe\">\n",
       "  <thead>\n",
       "    <tr style=\"text-align: right;\">\n",
       "      <th></th>\n",
       "      <th>Test Track Speed</th>\n",
       "    </tr>\n",
       "  </thead>\n",
       "  <tbody>\n",
       "    <tr>\n",
       "      <th>count</th>\n",
       "      <td>5.000000</td>\n",
       "    </tr>\n",
       "    <tr>\n",
       "      <th>mean</th>\n",
       "      <td>7.640000</td>\n",
       "    </tr>\n",
       "    <tr>\n",
       "      <th>std</th>\n",
       "      <td>0.873499</td>\n",
       "    </tr>\n",
       "    <tr>\n",
       "      <th>min</th>\n",
       "      <td>6.100000</td>\n",
       "    </tr>\n",
       "    <tr>\n",
       "      <th>25%</th>\n",
       "      <td>7.800000</td>\n",
       "    </tr>\n",
       "    <tr>\n",
       "      <th>50%</th>\n",
       "      <td>8.000000</td>\n",
       "    </tr>\n",
       "    <tr>\n",
       "      <th>75%</th>\n",
       "      <td>8.100000</td>\n",
       "    </tr>\n",
       "    <tr>\n",
       "      <th>max</th>\n",
       "      <td>8.200000</td>\n",
       "    </tr>\n",
       "  </tbody>\n",
       "</table>\n",
       "</div>"
      ],
      "text/plain": [
       "       Test Track Speed\n",
       "count          5.000000\n",
       "mean           7.640000\n",
       "std            0.873499\n",
       "min            6.100000\n",
       "25%            7.800000\n",
       "50%            8.000000\n",
       "75%            8.100000\n",
       "max            8.200000"
      ]
     },
     "execution_count": 10,
     "metadata": {},
     "output_type": "execute_result"
    }
   ],
   "source": [
    "y_test.describe()"
   ]
  },
  {
   "cell_type": "code",
   "execution_count": 11,
   "id": "c56670bd",
   "metadata": {
    "execution": {
     "iopub.execute_input": "2022-01-10T20:28:11.583855Z",
     "iopub.status.busy": "2022-01-10T20:28:11.583056Z",
     "iopub.status.idle": "2022-01-10T20:28:11.590136Z",
     "shell.execute_reply": "2022-01-10T20:28:11.590795Z",
     "shell.execute_reply.started": "2022-01-10T20:07:47.596818Z"
    },
    "papermill": {
     "duration": 0.031556,
     "end_time": "2022-01-10T20:28:11.591005",
     "exception": false,
     "start_time": "2022-01-10T20:28:11.559449",
     "status": "completed"
    },
    "tags": []
   },
   "outputs": [
    {
     "name": "stdout",
     "output_type": "stream",
     "text": [
      "0.10900975116383214\n"
     ]
    }
   ],
   "source": [
    "RMSE = sqrt(mean_squared_error(y_true = y_test, y_pred = y_prediction))\n",
    "print(RMSE)"
   ]
  },
  {
   "cell_type": "markdown",
   "id": "8fad5b26",
   "metadata": {
    "papermill": {
     "duration": 0.019738,
     "end_time": "2022-01-10T20:28:11.632593",
     "exception": false,
     "start_time": "2022-01-10T20:28:11.612855",
     "status": "completed"
    },
    "tags": []
   },
   "source": [
    "Quantifying the goodness of fit."
   ]
  },
  {
   "cell_type": "code",
   "execution_count": 12,
   "id": "dabb4cdf",
   "metadata": {
    "execution": {
     "iopub.execute_input": "2022-01-10T20:28:11.677886Z",
     "iopub.status.busy": "2022-01-10T20:28:11.677180Z",
     "iopub.status.idle": "2022-01-10T20:28:11.684098Z",
     "shell.execute_reply": "2022-01-10T20:28:11.684628Z",
     "shell.execute_reply.started": "2022-01-10T20:07:47.607611Z"
    },
    "papermill": {
     "duration": 0.031463,
     "end_time": "2022-01-10T20:28:11.684816",
     "exception": false,
     "start_time": "2022-01-10T20:28:11.653353",
     "status": "completed"
    },
    "tags": []
   },
   "outputs": [
    {
     "name": "stdout",
     "output_type": "stream",
     "text": [
      "0.10900975116383214\n"
     ]
    }
   ],
   "source": [
    "RMSE = sqrt(mean_squared_error(y_true = y_test, y_pred = y_prediction))\n",
    "print(RMSE)"
   ]
  },
  {
   "cell_type": "code",
   "execution_count": 13,
   "id": "7090f6b8",
   "metadata": {
    "execution": {
     "iopub.execute_input": "2022-01-10T20:28:11.734633Z",
     "iopub.status.busy": "2022-01-10T20:28:11.733907Z",
     "iopub.status.idle": "2022-01-10T20:28:11.736838Z",
     "shell.execute_reply": "2022-01-10T20:28:11.737340Z",
     "shell.execute_reply.started": "2022-01-10T20:07:47.621419Z"
    },
    "papermill": {
     "duration": 0.03202,
     "end_time": "2022-01-10T20:28:11.737535",
     "exception": false,
     "start_time": "2022-01-10T20:28:11.705515",
     "status": "completed"
    },
    "tags": []
   },
   "outputs": [
    {
     "data": {
      "text/plain": [
       "0.9805322315714275"
      ]
     },
     "execution_count": 13,
     "metadata": {},
     "output_type": "execute_result"
    }
   ],
   "source": [
    "sklearn.metrics.r2_score(y_test,y_prediction)"
   ]
  },
  {
   "cell_type": "markdown",
   "id": "d199aacf",
   "metadata": {
    "papermill": {
     "duration": 0.020501,
     "end_time": "2022-01-10T20:28:11.778960",
     "exception": false,
     "start_time": "2022-01-10T20:28:11.758459",
     "status": "completed"
    },
    "tags": []
   },
   "source": [
    "# Run Again Adding Fork Length as a Predictor"
   ]
  },
  {
   "cell_type": "code",
   "execution_count": 14,
   "id": "c1476281",
   "metadata": {
    "execution": {
     "iopub.execute_input": "2022-01-10T20:28:11.833733Z",
     "iopub.status.busy": "2022-01-10T20:28:11.826181Z",
     "iopub.status.idle": "2022-01-10T20:28:11.852169Z",
     "shell.execute_reply": "2022-01-10T20:28:11.852691Z",
     "shell.execute_reply.started": "2022-01-10T20:07:47.635558Z"
    },
    "papermill": {
     "duration": 0.051652,
     "end_time": "2022-01-10T20:28:11.852866",
     "exception": false,
     "start_time": "2022-01-10T20:28:11.801214",
     "status": "completed"
    },
    "tags": []
   },
   "outputs": [
    {
     "name": "stdout",
     "output_type": "stream",
     "text": [
      "0.6766678365736792\n"
     ]
    },
    {
     "data": {
      "text/plain": [
       "0.24986998516824466"
      ]
     },
     "execution_count": 14,
     "metadata": {},
     "output_type": "execute_result"
    }
   ],
   "source": [
    "features = ['Dyno Speed','Fork Length']\n",
    "target = [\"Test Track Speed\"]\n",
    "X = df[features]\n",
    "y = df[target]\n",
    "X_train, X_test, y_train, y_test = train_test_split(X, y, test_size=0.33, random_state=324)\n",
    "regressor = LinearRegression()\n",
    "regressor.fit(X_train, y_train)\n",
    "y_prediction = regressor.predict(X_test)\n",
    "y_prediction\n",
    "RMSE = sqrt(mean_squared_error(y_true = y_test, y_pred = y_prediction))\n",
    "print(RMSE)\n",
    "sklearn.metrics.r2_score(y_test,y_prediction)"
   ]
  },
  {
   "cell_type": "markdown",
   "id": "4945a169",
   "metadata": {
    "papermill": {
     "duration": 0.021967,
     "end_time": "2022-01-10T20:28:11.897157",
     "exception": false,
     "start_time": "2022-01-10T20:28:11.875190",
     "status": "completed"
    },
    "tags": []
   },
   "source": [
    "# Add Model as Predictor"
   ]
  },
  {
   "cell_type": "code",
   "execution_count": 15,
   "id": "a6446579",
   "metadata": {
    "execution": {
     "iopub.execute_input": "2022-01-10T20:28:11.949704Z",
     "iopub.status.busy": "2022-01-10T20:28:11.948848Z",
     "iopub.status.idle": "2022-01-10T20:28:11.968010Z",
     "shell.execute_reply": "2022-01-10T20:28:11.968546Z",
     "shell.execute_reply.started": "2022-01-10T20:11:43.177498Z"
    },
    "papermill": {
     "duration": 0.049746,
     "end_time": "2022-01-10T20:28:11.968736",
     "exception": false,
     "start_time": "2022-01-10T20:28:11.918990",
     "status": "completed"
    },
    "tags": []
   },
   "outputs": [
    {
     "name": "stdout",
     "output_type": "stream",
     "text": [
      "[[7.76049822]\n",
      " [6.28576512]\n",
      " [8.1455516 ]\n",
      " [8.03701068]\n",
      " [8.03701068]]\n",
      "    Test Track Speed\n",
      "11               7.8\n",
      "2                6.1\n",
      "1                8.1\n",
      "5                8.2\n",
      "3                8.0\n",
      "0.11496028036004569\n"
     ]
    },
    {
     "data": {
      "text/plain": [
       "0.978348843282339"
      ]
     },
     "execution_count": 15,
     "metadata": {},
     "output_type": "execute_result"
    }
   ],
   "source": [
    "features = ['Dyno Speed','8410','8510','8310','8610','8900','8720','3010','3020','3030']\n",
    "target = [\"Test Track Speed\"]\n",
    "X = df[features]\n",
    "y = df[target]\n",
    "X_train, X_test, y_train, y_test = train_test_split(X, y, test_size=0.33, random_state=324)\n",
    "regressor = LinearRegression()\n",
    "regressor.fit(X_train, y_train)\n",
    "y_prediction = regressor.predict(X_test)\n",
    "compare = (y_prediction,y_test)\n",
    "print(y_prediction)\n",
    "print(y_test)\n",
    "RMSE = sqrt(mean_squared_error(y_true = y_test, y_pred = y_prediction))\n",
    "print(RMSE)\n",
    "sklearn.metrics.r2_score(y_test,y_prediction)"
   ]
  },
  {
   "cell_type": "code",
   "execution_count": null,
   "id": "79e1be1c",
   "metadata": {
    "papermill": {
     "duration": 0.022494,
     "end_time": "2022-01-10T20:28:12.013643",
     "exception": false,
     "start_time": "2022-01-10T20:28:11.991149",
     "status": "completed"
    },
    "tags": []
   },
   "outputs": [],
   "source": []
  }
 ],
 "metadata": {
  "kernelspec": {
   "display_name": "Python 3",
   "language": "python",
   "name": "python3"
  },
  "language_info": {
   "codemirror_mode": {
    "name": "ipython",
    "version": 3
   },
   "file_extension": ".py",
   "mimetype": "text/x-python",
   "name": "python",
   "nbconvert_exporter": "python",
   "pygments_lexer": "ipython3",
   "version": "3.7.12"
  },
  "papermill": {
   "default_parameters": {},
   "duration": 13.444055,
   "end_time": "2022-01-10T20:28:12.747844",
   "environment_variables": {},
   "exception": null,
   "input_path": "__notebook__.ipynb",
   "output_path": "__notebook__.ipynb",
   "parameters": {},
   "start_time": "2022-01-10T20:27:59.303789",
   "version": "2.3.3"
  }
 },
 "nbformat": 4,
 "nbformat_minor": 5
}
